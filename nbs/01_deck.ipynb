{
 "cells": [
  {
   "cell_type": "raw",
   "metadata": {},
   "source": [
    "---\n",
    "title: \"Transformer101\"\n",
    "toc: true\n",
    "toc-expand: 3\n",
    "format: \n",
    "  html:\n",
    "    code-fold: false\n",
    "jupyter: python3\n",
    "---"
   ]
  },
  {
   "cell_type": "markdown",
   "metadata": {},
   "source": [
    "# Deck类\n",
    "\n",
    "> simple tutorial on Deck"
   ]
  },
  {
   "cell_type": "code",
   "execution_count": null,
   "metadata": {},
   "outputs": [],
   "source": [
    "#| default_exp deck"
   ]
  },
  {
   "cell_type": "code",
   "execution_count": null,
   "metadata": {},
   "outputs": [],
   "source": [
    "#| export\n",
    "from nvdeb101.card import *\n",
    "from fastcore.utils import *"
   ]
  },
  {
   "cell_type": "code",
   "execution_count": null,
   "metadata": {},
   "outputs": [],
   "source": [
    "#| hide\n",
    "from nbdev.showdoc import *"
   ]
  },
  {
   "cell_type": "code",
   "execution_count": null,
   "metadata": {},
   "outputs": [],
   "source": [
    "#| export\n",
    "class Deck(): \n",
    "    \"扑克牌的的定义的定义\"\n",
    "    def __init__(self):\n",
    "        self.deck=[Card(i,j) for i in range(4) for j in range(12)]\n",
    "    def __repr__(self):\n",
    "        return f\"{self.deck}\"\n",
    "    def __len__(self):\n",
    "        \"扑克牌的数量\"\n",
    "        return len(self.deck)\n",
    "    def __contains__(self,c):\n",
    "        return c in self.deck\n",
    "    __str__=__repr__"
   ]
  },
  {
   "cell_type": "code",
   "execution_count": null,
   "metadata": {},
   "outputs": [
    {
     "data": {
      "text/markdown": [
       "---\n",
       "\n",
       "[source](https://github.com/mckjzhangxk/nvdeb101/blob/main/nvdeb101/card.py#LNone){target=\"_blank\" style=\"float:right; font-size:smaller\"}\n",
       "\n",
       "### Card\n",
       "\n",
       ">      Card (suit:int, rank:int)\n",
       "\n",
       "扑克牌的定义\n",
       "\n",
       "|    | **Type** | **Details** |\n",
       "| -- | -------- | ----------- |\n",
       "| suit | int | 表示扑克牌花色 |\n",
       "| rank | int | 扑克上的数字 |"
      ],
      "text/plain": [
       "---\n",
       "\n",
       "[source](https://github.com/mckjzhangxk/nvdeb101/blob/main/nvdeb101/card.py#LNone){target=\"_blank\" style=\"float:right; font-size:smaller\"}\n",
       "\n",
       "### Card\n",
       "\n",
       ">      Card (suit:int, rank:int)\n",
       "\n",
       "扑克牌的定义\n",
       "\n",
       "|    | **Type** | **Details** |\n",
       "| -- | -------- | ----------- |\n",
       "| suit | int | 表示扑克牌花色 |\n",
       "| rank | int | 扑克上的数字 |"
      ]
     },
     "execution_count": null,
     "metadata": {},
     "output_type": "execute_result"
    }
   ],
   "source": [
    "show_doc(Card)"
   ]
  },
  {
   "cell_type": "markdown",
   "metadata": {},
   "source": [
    "我们来看一下，符号的样子"
   ]
  },
  {
   "cell_type": "code",
   "execution_count": null,
   "metadata": {},
   "outputs": [
    {
     "name": "stdout",
     "output_type": "stream",
     "text": [
      "[None♠, A♠, 3♠, 4♠, 5♠, 6♠, 7♠, 8♠, 9♠, J♠, Q♠, K♠, None♣, A♣, 3♣, 4♣, 5♣, 6♣, 7♣, 8♣, 9♣, J♣, Q♣, K♣, None♥, A♥, 3♥, 4♥, 5♥, 6♥, 7♥, 8♥, 9♥, J♥, Q♥, K♥, None♦, A♦, 3♦, 4♦, 5♦, 6♦, 7♦, 8♦, 9♦, J♦, Q♦, K♦]\n"
     ]
    }
   ],
   "source": [
    "d=Deck()\n",
    "print(d)\n",
    "a=2"
   ]
  },
  {
   "cell_type": "markdown",
   "metadata": {},
   "source": [
    "### pop"
   ]
  },
  {
   "cell_type": "code",
   "execution_count": null,
   "metadata": {},
   "outputs": [],
   "source": [
    "#| export\n",
    "@patch\n",
    "def pop(self:Deck,\n",
    "       index:int=-1 #取牌的位置\n",
    "    ):\n",
    "    \"取出最后一张牌\"\n",
    "    return self.deck.pop()"
   ]
  },
  {
   "cell_type": "code",
   "execution_count": null,
   "metadata": {},
   "outputs": [
    {
     "name": "stdout",
     "output_type": "stream",
     "text": [
      "K♦\n"
     ]
    }
   ],
   "source": [
    "d=Deck()\n",
    "print(d.pop())"
   ]
  },
  {
   "cell_type": "markdown",
   "metadata": {},
   "source": [
    "## __contains__"
   ]
  },
  {
   "cell_type": "code",
   "execution_count": null,
   "metadata": {},
   "outputs": [
    {
     "data": {
      "text/plain": [
       "True"
      ]
     },
     "execution_count": null,
     "metadata": {},
     "output_type": "execute_result"
    }
   ],
   "source": [
    "#查看下是否包含\n",
    "d=Deck()\n",
    "c=Card(1,2)\n",
    "c in d"
   ]
  },
  {
   "cell_type": "markdown",
   "metadata": {},
   "source": [
    "### Cell代码会被运行吗\n",
    "```python\n",
    "    def heavy():\n",
    "        time.sleep(200)\n",
    "        return 8\n",
    "    a=heavy()\n",
    "```"
   ]
  },
  {
   "cell_type": "code",
   "execution_count": null,
   "metadata": {},
   "outputs": [],
   "source": [
    "#| hide\n",
    "import time"
   ]
  },
  {
   "cell_type": "code",
   "execution_count": null,
   "metadata": {},
   "outputs": [],
   "source": [
    "#| hide\n",
    "def heavy():\n",
    "    time.sleep(1)\n",
    "    return 8\n",
    "a=heavy()\n",
    "a"
   ]
  },
  {
   "cell_type": "markdown",
   "metadata": {},
   "source": [
    "放心，nbdev_preview不会执行代码，只会渲染页面，nvdev_test才会执行code"
   ]
  },
  {
   "cell_type": "code",
   "execution_count": null,
   "metadata": {},
   "outputs": [],
   "source": [
    "#| hide\n",
    "import nbdev; nbdev.nbdev_export()"
   ]
  }
 ],
 "metadata": {
  "kernelspec": {
   "display_name": "Python 3 (ipykernel)",
   "language": "python",
   "name": "python3"
  },
  "language_info": {
   "codemirror_mode": {
    "name": "ipython",
    "version": 3
   },
   "file_extension": ".py",
   "mimetype": "text/x-python",
   "name": "python",
   "nbconvert_exporter": "python",
   "pygments_lexer": "ipython3",
   "version": "3.10.9"
  }
 },
 "nbformat": 4,
 "nbformat_minor": 4
}
